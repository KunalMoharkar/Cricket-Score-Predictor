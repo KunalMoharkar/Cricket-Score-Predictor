{
 "cells": [
  {
   "cell_type": "code",
   "execution_count": 1,
   "id": "continent-drama",
   "metadata": {},
   "outputs": [
    {
     "name": "stdout",
     "output_type": "stream",
     "text": [
      "         mid        date                  venue bat_team    bowl_team  \\\n",
      "0          1  2005-06-13          The Rose Bowl  England    Australia   \n",
      "1          1  2005-06-13          The Rose Bowl  England    Australia   \n",
      "2          1  2005-06-13          The Rose Bowl  England    Australia   \n",
      "3          1  2005-06-13          The Rose Bowl  England    Australia   \n",
      "4          1  2005-06-13          The Rose Bowl  England    Australia   \n",
      "...      ...         ...                    ...      ...          ...   \n",
      "180772  1474  2017-07-09  Sabina Park, Kingston    India  West Indies   \n",
      "180773  1474  2017-07-09  Sabina Park, Kingston    India  West Indies   \n",
      "180774  1474  2017-07-09  Sabina Park, Kingston    India  West Indies   \n",
      "180775  1474  2017-07-09  Sabina Park, Kingston    India  West Indies   \n",
      "180776  1474  2017-07-09  Sabina Park, Kingston    India  West Indies   \n",
      "\n",
      "               batsman        bowler  runs  wickets  overs  runs_last_5  \\\n",
      "0       ME Trescothick         B Lee     0        0    0.1            0   \n",
      "1       ME Trescothick         B Lee     1        0    0.2            1   \n",
      "2             GO Jones         B Lee     1        0    0.3            1   \n",
      "3             GO Jones         B Lee     1        0    0.4            1   \n",
      "4             GO Jones         B Lee     1        0    0.5            1   \n",
      "...                ...           ...   ...      ...    ...          ...   \n",
      "180772       RA Jadeja  KOK Williams   179        6   19.2           42   \n",
      "180773       RA Jadeja  KOK Williams   183        6   19.3           45   \n",
      "180774       RA Jadeja  KOK Williams   184        6   19.4           45   \n",
      "180775        R Ashwin  KOK Williams   186        6   19.5           46   \n",
      "180776        R Ashwin  KOK Williams   190        6   19.6           44   \n",
      "\n",
      "        wickets_last_5  striker  non-striker  total  \n",
      "0                    0        0            0    179  \n",
      "1                    0        1            0    179  \n",
      "2                    0        1            0    179  \n",
      "3                    0        1            0    179  \n",
      "4                    0        1            0    179  \n",
      "...                ...      ...          ...    ...  \n",
      "180772               4       12            5    190  \n",
      "180773               4       12            5    190  \n",
      "180774               4       13            5    190  \n",
      "180775               4       13            7    190  \n",
      "180776               4       13           11    190  \n",
      "\n",
      "[180777 rows x 15 columns]\n",
      "[[0.00e+00 0.00e+00 1.00e-01 0.00e+00 0.00e+00]\n",
      " [1.00e+00 0.00e+00 2.00e-01 1.00e+00 0.00e+00]\n",
      " [1.00e+00 0.00e+00 3.00e-01 1.00e+00 0.00e+00]\n",
      " ...\n",
      " [1.84e+02 6.00e+00 1.94e+01 1.30e+01 5.00e+00]\n",
      " [1.86e+02 6.00e+00 1.95e+01 1.30e+01 7.00e+00]\n",
      " [1.90e+02 6.00e+00 1.96e+01 1.30e+01 1.10e+01]]\n",
      "[179 179 179 ... 190 190 190]\n"
     ]
    }
   ],
   "source": [
    "import pandas as pd\n",
    "import numpy as np\n",
    "import pickle\n",
    "# Importing the dataset\n",
    "dataset = pd.read_csv('data/t20.csv')\n",
    "\n",
    "print(dataset)\n",
    "\n",
    "#runs - at that point\n",
    "#wickets - fallen\n",
    "#overs - bowled till that instance\n",
    "\n",
    "#striker \n",
    "#non striker\n",
    "\n",
    "x = dataset.iloc[:,[7,8,9,12,13]].values\n",
    "y = dataset.iloc[:, 14].values\n",
    "\n",
    "print(x)\n",
    "\n",
    "print(y)"
   ]
  },
  {
   "cell_type": "code",
   "execution_count": 2,
   "id": "stable-wrist",
   "metadata": {},
   "outputs": [
    {
     "name": "stdout",
     "output_type": "stream",
     "text": [
      "[[107.    6.   18.1  26.    0. ]\n",
      " [ 71.    4.   10.1  16.   10. ]\n",
      " [ 56.    3.    8.5  29.    0. ]\n",
      " ...\n",
      " [132.    4.   16.4  18.    5. ]\n",
      " [ 60.    1.    6.3  16.    5. ]\n",
      " [ 27.    0.    3.4  14.   12. ]]\n",
      "[[58.   1.   7.3 40.  11. ]\n",
      " [91.   6.  15.6  3.   3. ]\n",
      " [40.   0.   4.4 24.  16. ]\n",
      " ...\n",
      " [79.   4.  12.2 19.   2. ]\n",
      " [59.   1.   5.1 44.   0. ]\n",
      " [83.   3.  11.6 17.   6. ]]\n",
      "[116 167 155 ... 187 170 187]\n",
      "[179 123 137 ... 136 183 127]\n"
     ]
    }
   ],
   "source": [
    "from sklearn.model_selection import train_test_split\n",
    "X_train, X_test, y_train, y_test = train_test_split(x, y, test_size = 0.25, random_state = 0)\n",
    "\n",
    "print(X_train)\n",
    "print(X_test)\n",
    "\n",
    "print(y_train)\n",
    "print(y_test)"
   ]
  },
  {
   "cell_type": "code",
   "execution_count": 5,
   "id": "italic-translation",
   "metadata": {},
   "outputs": [],
   "source": [
    "from sklearn.linear_model import LinearRegression\n",
    "lin = LinearRegression()\n",
    "lin.fit(X_train,y_train)\n",
    "\n",
    "filename = 'finalized_model.sav'\n",
    "pickle.dump(lin, open(filename, 'wb'))"
   ]
  },
  {
   "cell_type": "code",
   "execution_count": 6,
   "id": "pressed-tolerance",
   "metadata": {},
   "outputs": [],
   "source": [
    "def custom_accuracy(y_test,y_pred,thresold):\n",
    "    right = 0\n",
    "\n",
    "    l = len(y_pred)\n",
    "    for i in range(0,l):\n",
    "        if(abs(y_pred[i]-y_test[i]) <= thresold):\n",
    "            right += 1\n",
    "    return ((right/l)*100)\n"
   ]
  },
  {
   "cell_type": "code",
   "execution_count": 8,
   "id": "tender-craft",
   "metadata": {},
   "outputs": [
    {
     "name": "stdout",
     "output_type": "stream",
     "text": [
      "Custom accuracy: 72.31552162849873\n"
     ]
    }
   ],
   "source": [
    "y_pred = lin.predict(X_test)\n",
    "print(\"Custom accuracy:\" , custom_accuracy(y_test,y_pred,20))\n"
   ]
  },
  {
   "cell_type": "code",
   "execution_count": 9,
   "id": "dangerous-nylon",
   "metadata": {},
   "outputs": [
    {
     "name": "stdout",
     "output_type": "stream",
     "text": [
      "Prediction score: [133.26063441]\n"
     ]
    }
   ],
   "source": [
    "# Testing with a custom input\n",
    "\n",
    "new_prediction = lin.predict((np.array([[120,5,19,5,0]])))\n",
    "print(\"Prediction score:\" , new_prediction)"
   ]
  },
  {
   "cell_type": "code",
   "execution_count": 12,
   "id": "going-marsh",
   "metadata": {},
   "outputs": [
    {
     "name": "stdout",
     "output_type": "stream",
     "text": [
      "Prediction score: [133.26063441]\n"
     ]
    }
   ],
   "source": [
    "loaded_model = pickle.load(open(filename, 'rb'))\n",
    "new_prediction = loaded_model.predict((np.array([[120,5,19,5,0]])))\n",
    "print(\"Prediction score:\" , new_prediction)"
   ]
  }
 ],
 "metadata": {
  "kernelspec": {
   "display_name": "Python 3",
   "language": "python",
   "name": "python3"
  },
  "language_info": {
   "codemirror_mode": {
    "name": "ipython",
    "version": 3
   },
   "file_extension": ".py",
   "mimetype": "text/x-python",
   "name": "python",
   "nbconvert_exporter": "python",
   "pygments_lexer": "ipython3",
   "version": "3.7.3"
  }
 },
 "nbformat": 4,
 "nbformat_minor": 5
}
